{
 "cells": [
  {
   "cell_type": "code",
   "execution_count": 19,
   "metadata": {},
   "outputs": [],
   "source": [
    "import pandas as pd\n",
    "import numpy as np\n",
    "import matplotlib.pyplot as plt\n",
    "import seaborn as sns\n",
    "from sklearn.model_selection import train_test_split, cross_val_score, GridSearchCV\n",
    "from sklearn.preprocessing import StandardScaler, MinMaxScaler, LabelEncoder\n",
    "from sklearn.linear_model import LinearRegression, LogisticRegression, Ridge, Lasso, ElasticNet\n",
    "from sklearn.neighbors import KNeighborsClassifier as KNN\n",
    "from sklearn.metrics import accuracy_score, confusion_matrix\n",
    "from sklearn.cluster import KMeans, AgglomerativeClustering\n",
    "from sklearn.pipeline import Pipeline\n",
    "from scipy.spatial.distance import cdist\n",
    "from sklearn.naive_bayes import GaussianNB, BernoulliNB, MultinomialNB\n",
    "from sklearn.svm import SVC\n",
    "from sklearn.tree import DecisionTreeClassifier\n",
    "import graphviz\n",
    "from sklearn import tree\n",
    "from sklearn.ensemble import RandomForestClassifier, BaggingClassifier, GradientBoostingClassifier\n",
    "from sklearn.neural_network import MLPClassifier\n",
    "from sklearn.cluster import AgglomerativeClustering\n",
    "from sklearn.decomposition import PCA\n",
    "import os\n",
    "from math import factorial\n",
    "import statsmodels.formula.api as smf"
   ]
  },
  {
   "cell_type": "code",
   "execution_count": 20,
   "metadata": {},
   "outputs": [
    {
     "data": {
      "text/html": [
       "<div>\n",
       "<style scoped>\n",
       "    .dataframe tbody tr th:only-of-type {\n",
       "        vertical-align: middle;\n",
       "    }\n",
       "\n",
       "    .dataframe tbody tr th {\n",
       "        vertical-align: top;\n",
       "    }\n",
       "\n",
       "    .dataframe thead th {\n",
       "        text-align: right;\n",
       "    }\n",
       "</style>\n",
       "<table border=\"1\" class=\"dataframe\">\n",
       "  <thead>\n",
       "    <tr style=\"text-align: right;\">\n",
       "      <th></th>\n",
       "      <th>feature1</th>\n",
       "      <th>feature2</th>\n",
       "      <th>feature3</th>\n",
       "      <th>feature4</th>\n",
       "      <th>feature5</th>\n",
       "      <th>feature6</th>\n",
       "      <th>label</th>\n",
       "    </tr>\n",
       "  </thead>\n",
       "  <tbody>\n",
       "    <tr>\n",
       "      <th>0</th>\n",
       "      <td>242.0</td>\n",
       "      <td>23.2</td>\n",
       "      <td>25.4</td>\n",
       "      <td>30.0</td>\n",
       "      <td>38.4</td>\n",
       "      <td>13.4</td>\n",
       "      <td>0</td>\n",
       "    </tr>\n",
       "    <tr>\n",
       "      <th>1</th>\n",
       "      <td>290.0</td>\n",
       "      <td>24.0</td>\n",
       "      <td>26.3</td>\n",
       "      <td>31.2</td>\n",
       "      <td>40.0</td>\n",
       "      <td>13.8</td>\n",
       "      <td>0</td>\n",
       "    </tr>\n",
       "    <tr>\n",
       "      <th>2</th>\n",
       "      <td>340.0</td>\n",
       "      <td>23.9</td>\n",
       "      <td>26.5</td>\n",
       "      <td>31.1</td>\n",
       "      <td>39.8</td>\n",
       "      <td>15.1</td>\n",
       "      <td>0</td>\n",
       "    </tr>\n",
       "    <tr>\n",
       "      <th>3</th>\n",
       "      <td>363.0</td>\n",
       "      <td>26.3</td>\n",
       "      <td>29.0</td>\n",
       "      <td>33.5</td>\n",
       "      <td>38.0</td>\n",
       "      <td>13.3</td>\n",
       "      <td>0</td>\n",
       "    </tr>\n",
       "    <tr>\n",
       "      <th>4</th>\n",
       "      <td>430.0</td>\n",
       "      <td>26.5</td>\n",
       "      <td>29.0</td>\n",
       "      <td>34.0</td>\n",
       "      <td>36.6</td>\n",
       "      <td>15.1</td>\n",
       "      <td>0</td>\n",
       "    </tr>\n",
       "  </tbody>\n",
       "</table>\n",
       "</div>"
      ],
      "text/plain": [
       "   feature1  feature2  feature3  feature4  feature5  feature6  label\n",
       "0     242.0      23.2      25.4      30.0      38.4      13.4      0\n",
       "1     290.0      24.0      26.3      31.2      40.0      13.8      0\n",
       "2     340.0      23.9      26.5      31.1      39.8      15.1      0\n",
       "3     363.0      26.3      29.0      33.5      38.0      13.3      0\n",
       "4     430.0      26.5      29.0      34.0      36.6      15.1      0"
      ]
     },
     "execution_count": 20,
     "metadata": {},
     "output_type": "execute_result"
    }
   ],
   "source": [
    "df = pd.read_csv('./Data Files/fish.csv', header=None, names=['fist', 'feature1', 'feature2', 'feature3', 'feature4', 'feature5', 'feature6', 'label'])\n",
    "df = df.loc[:, df.columns!='fist']\n",
    "df.head()"
   ]
  },
  {
   "cell_type": "code",
   "execution_count": 21,
   "metadata": {},
   "outputs": [
    {
     "name": "stdout",
     "output_type": "stream",
     "text": [
      "(72, 6)\n",
      "(72,)\n",
      "(13, 6)\n",
      "(13,)\n"
     ]
    }
   ],
   "source": [
    "feature = df.iloc[:, :-1].values\n",
    "label = df.iloc[:, -1]\n",
    "\n",
    "X_train, X_test, Y_train, Y_test = train_test_split(feature, label, test_size=0.15, random_state=37)\n",
    "print(X_train.shape)\n",
    "print(Y_train.shape)\n",
    "print(X_test.shape)\n",
    "print(Y_test.shape)"
   ]
  },
  {
   "cell_type": "code",
   "execution_count": 22,
   "metadata": {},
   "outputs": [],
   "source": [
    "def col_row(matrix):\n",
    "    number = range(matrix.shape[0])\n",
    "    list_ = np.zeros((factorial(matrix.shape[1]),matrix.shape[0]+1))\n",
    "    \n",
    "    count_ = 0\n",
    "    for x0 in number:\n",
    "        y0 = list(filter(lambda x: x!=x0, number))\n",
    "        for x1 in y0:\n",
    "            y1 = list(filter(lambda x: x!=x1, y0))\n",
    "            for x2 in y1:\n",
    "                y2 = list(filter(lambda x: x!=x2, y1))\n",
    "                for x3 in y2:                    \n",
    "                    list_[count_, 0] = x0\n",
    "                    list_[count_, 1] = x1\n",
    "                    list_[count_, 2] = x2\n",
    "                    list_[count_, 3] = x3\n",
    "                    count_ += 1\n",
    "\n",
    "    for row in range(list_.shape[0]):\n",
    "        sum_ = 0\n",
    "        for col in range(list_.shape[1]-1):\n",
    "            sum_ += matrix.iloc[col, int(list_[row, col])]\n",
    "        list_[row, -1] = sum_\n",
    "    \n",
    "    max_ = list_[np.argmax(list_[:,-1]),:]\n",
    "    \n",
    "    dict_ = {}\n",
    "    for i in range(max_.shape[0] - 1):\n",
    "        dict_[int(max_[i])] = int(i)\n",
    "    return dict_"
   ]
  },
  {
   "cell_type": "code",
   "execution_count": 23,
   "metadata": {},
   "outputs": [
    {
     "name": "stdout",
     "output_type": "stream",
     "text": [
      "col_0   0   1   2  3\n",
      "label               \n",
      "0      17  16   1  0\n",
      "1       3   0  17  0\n",
      "2       0   0  14  0\n",
      "3      10   2   1  4\n",
      "41.1764705882353\n",
      "{1: 0, 2: 1, 3: 2, 0: 3}\n",
      "predict   0   1  2   3\n",
      "label                 \n",
      "0        16   1  0  17\n",
      "1         0  17  0   3\n",
      "2         0  14  0   0\n",
      "3         2   1  4  10\n",
      "50.588235294117645\n"
     ]
    },
    {
     "data": {
      "image/png": "[encoded data removed]",
      "text/plain": [
       "<Figure size 432x288 with 2 Axes>"
      ]
     },
     "metadata": {},
     "output_type": "display_data"
    }
   ],
   "source": [
    "#Kmean not scaler\n",
    "kmean = KMeans(n_clusters = df['label'].nunique(), random_state=17)\n",
    "kmean.fit(feature)\n",
    "\n",
    "y_pre1 = kmean.labels_\n",
    "table1 = pd.DataFrame({'actual': label, 'predict': y_pre1})\n",
    "table1['Result'] = np.where(table1['actual']==table1['predict'], True, False) \n",
    "\n",
    "matrix_predict1 = pd.crosstab(label, y_pre1)\n",
    "print(matrix_predict1)\n",
    "\n",
    "print(100*np.trace(matrix_predict1)/df.shape[0])\n",
    "\n",
    "convert_ = col_row(matrix_predict1)\n",
    "print(convert_)\n",
    "\n",
    "table1['predict'] = table1['predict'].map(convert_)\n",
    "table1['Result'] = np.where(table1['actual']==table1['predict'], True, False) \n",
    "\n",
    "matrix_convert1 = pd.crosstab(label, table1['predict'])\n",
    "print(matrix_convert1)\n",
    "\n",
    "sns.heatmap(matrix_convert1, annot=True)\n",
    "print(100*np.trace(matrix_convert1)/df.shape[0])"
   ]
  },
  {
   "cell_type": "code",
   "execution_count": 24,
   "metadata": {},
   "outputs": [
    {
     "name": "stdout",
     "output_type": "stream",
     "text": [
      "col_0   0  1   2  3\n",
      "label              \n",
      "0       5  6  23  0\n",
      "1      20  0   0  0\n",
      "2      14  0   0  0\n",
      "3       5  2   7  3\n",
      "9.411764705882353\n",
      "{2: 0, 0: 1, 1: 2, 3: 3}\n",
      "predict   0   1  2  3\n",
      "label                \n",
      "0        23   5  6  0\n",
      "1         0  20  0  0\n",
      "2         0  14  0  0\n",
      "3         7   5  2  3\n",
      "54.11764705882353\n"
     ]
    },
    {
     "data": {
      "image/png": "[encoded data removed]",
      "text/plain": [
       "<Figure size 432x288 with 2 Axes>"
      ]
     },
     "metadata": {},
     "output_type": "display_data"
    }
   ],
   "source": [
    "#Hierarchical not scaler\n",
    "hierarchical = AgglomerativeClustering(n_clusters = df['label'].nunique())\n",
    "hierarchical.fit(feature)\n",
    "\n",
    "y_pre2 = hierarchical.labels_\n",
    "table2 = pd.DataFrame({'actual': label, 'predict': y_pre2})\n",
    "table2['Result'] = np.where(table2['actual']==table2['predict'], True, False) \n",
    "\n",
    "matrix_predict2 = pd.crosstab(label, y_pre2)\n",
    "print(matrix_predict2)\n",
    "\n",
    "print(100*np.trace(matrix_predict2)/df.shape[0])\n",
    "\n",
    "convert_ = col_row(matrix_predict2)\n",
    "print(convert_)\n",
    "\n",
    "table2['predict'] = table2['predict'].replace(convert_)\n",
    "table2['Result'] = np.where(table2['actual']==table2['predict'], True, False) \n",
    "\n",
    "matrix_convert2 = pd.crosstab(label, table2['predict'])\n",
    "print(matrix_convert2)\n",
    "\n",
    "sns.heatmap(matrix_convert2, annot=True)\n",
    "print(100*np.trace(matrix_convert2)/df.shape[0])"
   ]
  },
  {
   "cell_type": "markdown",
   "metadata": {},
   "source": [
    "Hierarchical is better than KMean when not scaler"
   ]
  },
  {
   "cell_type": "code",
   "execution_count": 25,
   "metadata": {},
   "outputs": [],
   "source": [
    "standardscaler = StandardScaler()\n",
    "feature_std = standardscaler.fit_transform(feature)\n",
    "\n",
    "minmaxscaler = MinMaxScaler()\n",
    "feature_minmax = minmaxscaler.fit_transform(feature)"
   ]
  },
  {
   "cell_type": "code",
   "execution_count": 26,
   "metadata": {},
   "outputs": [
    {
     "name": "stdout",
     "output_type": "stream",
     "text": [
      "col_0   0   1   2   3\n",
      "label                \n",
      "0      33   0   0   1\n",
      "1       1   0   0  19\n",
      "2       0  13   0   1\n",
      "3       0   0  17   0\n",
      "38.8235294117647\n",
      "{0: 0, 3: 1, 1: 2, 2: 3}\n",
      "predict   0   1   2   3\n",
      "label                  \n",
      "0        33   1   0   0\n",
      "1         1  19   0   0\n",
      "2         0   1  13   0\n",
      "3         0   0   0  17\n",
      "96.47058823529412\n"
     ]
    },
    {
     "data": {
      "image/png": "[encoded data removed]",
      "text/plain": [
       "<Figure size 432x288 with 2 Axes>"
      ]
     },
     "metadata": {},
     "output_type": "display_data"
    }
   ],
   "source": [
    "#Kmean standardscaler\n",
    "kmean = KMeans(n_clusters = df['label'].nunique(), random_state=17)\n",
    "kmean.fit(feature_std)\n",
    "\n",
    "y_pre1 = kmean.labels_\n",
    "table1 = pd.DataFrame({'actual': label, 'predict': y_pre1})\n",
    "table1['Result'] = np.where(table1['actual']==table1['predict'], True, False) \n",
    "\n",
    "matrix_predict1 = pd.crosstab(label, y_pre1)\n",
    "print(matrix_predict1)\n",
    "\n",
    "print(100*np.trace(matrix_predict1)/df.shape[0])\n",
    "\n",
    "convert_ = col_row(matrix_predict1)\n",
    "print(convert_)\n",
    "\n",
    "table1['predict'] = table1['predict'].replace(convert_)\n",
    "table1['Result'] = np.where(table1['actual']==table1['predict'], True, False) \n",
    "\n",
    "matrix_convert1 = pd.crosstab(label, table1['predict'])\n",
    "print(matrix_convert1)\n",
    "\n",
    "sns.heatmap(matrix_convert1, annot=True)\n",
    "print(100*np.trace(matrix_convert1)/df.shape[0])"
   ]
  },
  {
   "cell_type": "code",
   "execution_count": 27,
   "metadata": {},
   "outputs": [
    {
     "name": "stdout",
     "output_type": "stream",
     "text": [
      "col_0   0   1   2   3\n",
      "label                \n",
      "0      34   0   0   0\n",
      "1       0   0  20   0\n",
      "2       0   0   1  13\n",
      "3       0  17   0   0\n",
      "41.1764705882353\n",
      "{0: 0, 2: 1, 3: 2, 1: 3}\n",
      "predict   0   1   2   3\n",
      "label                  \n",
      "0        34   0   0   0\n",
      "1         0  20   0   0\n",
      "2         0   1  13   0\n",
      "3         0   0   0  17\n",
      "98.82352941176471\n"
     ]
    },
    {
     "data": {
      "image/png": "[encoded data removed]",
      "text/plain": [
       "<Figure size 432x288 with 2 Axes>"
      ]
     },
     "metadata": {},
     "output_type": "display_data"
    }
   ],
   "source": [
    "#Kmean minmaxscaler\n",
    "kmean = KMeans(n_clusters = df['label'].nunique(), random_state=17)\n",
    "kmean.fit(feature_minmax)\n",
    "\n",
    "y_pre1 = kmean.labels_\n",
    "table1 = pd.DataFrame({'actual': label, 'predict': y_pre1})\n",
    "table1['Result'] = np.where(table1['actual']==table1['predict'], True, False) \n",
    "\n",
    "matrix_predict1 = pd.crosstab(label, y_pre1)\n",
    "print(matrix_predict1)\n",
    "\n",
    "print(100*np.trace(matrix_predict1)/df.shape[0])\n",
    "\n",
    "convert_ = col_row(matrix_predict1)\n",
    "print(convert_)\n",
    "\n",
    "table1['predict'] = table1['predict'].replace(convert_)\n",
    "table1['Result'] = np.where(table1['actual']==table1['predict'], True, False) \n",
    "\n",
    "matrix_convert1 = pd.crosstab(label, table1['predict'])\n",
    "print(matrix_convert1)\n",
    "\n",
    "sns.heatmap(matrix_convert1, annot=True)\n",
    "print(100*np.trace(matrix_convert1)/df.shape[0])"
   ]
  },
  {
   "cell_type": "code",
   "execution_count": 28,
   "metadata": {},
   "outputs": [
    {
     "name": "stdout",
     "output_type": "stream",
     "text": [
      "col_0   0   1   2   3\n",
      "label                \n",
      "0       0   0  34   0\n",
      "1       0   1   0  19\n",
      "2       0  14   0   0\n",
      "3      17   0   0   0\n",
      "1.1764705882352942\n",
      "{2: 0, 3: 1, 1: 2, 0: 3}\n",
      "predict   0   1   2   3\n",
      "label                  \n",
      "0        34   0   0   0\n",
      "1         0  19   1   0\n",
      "2         0   0  14   0\n",
      "3         0   0   0  17\n",
      "98.82352941176471\n"
     ]
    },
    {
     "data": {
      "image/png": "[encoded data removed]",
      "text/plain": [
       "<Figure size 432x288 with 2 Axes>"
      ]
     },
     "metadata": {},
     "output_type": "display_data"
    }
   ],
   "source": [
    "#Hierarchical standardscaler\n",
    "hierarchical = AgglomerativeClustering(n_clusters = df['label'].nunique())\n",
    "hierarchical.fit(feature_std)\n",
    "\n",
    "y_pre2 = hierarchical.labels_\n",
    "table2 = pd.DataFrame({'actual': label, 'predict': y_pre2})\n",
    "table2['Result'] = np.where(table2['actual']==table2['predict'], True, False) \n",
    "\n",
    "matrix_predict2 = pd.crosstab(label, y_pre2)\n",
    "print(matrix_predict2)\n",
    "\n",
    "print(100*np.trace(matrix_predict2)/df.shape[0])\n",
    "\n",
    "convert_ = col_row(matrix_predict2)\n",
    "print(convert_)\n",
    "\n",
    "table2['predict'] = table2['predict'].replace(convert_)\n",
    "table2['Result'] = np.where(table2['actual']==table2['predict'], True, False) \n",
    "\n",
    "matrix_convert2 = pd.crosstab(label, table2['predict'])\n",
    "print(matrix_convert2)\n",
    "\n",
    "sns.heatmap(matrix_convert2, annot=True)\n",
    "print(100*np.trace(matrix_convert2)/df.shape[0])"
   ]
  },
  {
   "cell_type": "code",
   "execution_count": 29,
   "metadata": {},
   "outputs": [
    {
     "name": "stdout",
     "output_type": "stream",
     "text": [
      "col_0   0   1   2   3\n",
      "label                \n",
      "0       0   0  34   0\n",
      "1       0   0   0  20\n",
      "2       0  14   0   0\n",
      "3      17   0   0   0\n",
      "0.0\n",
      "{2: 0, 3: 1, 1: 2, 0: 3}\n",
      "predict   0   1   2   3\n",
      "label                  \n",
      "0        34   0   0   0\n",
      "1         0  20   0   0\n",
      "2         0   0  14   0\n",
      "3         0   0   0  17\n",
      "100.0\n"
     ]
    },
    {
     "data": {
      "image/png": "[encoded data removed]",
      "text/plain": [
       "<Figure size 432x288 with 2 Axes>"
      ]
     },
     "metadata": {},
     "output_type": "display_data"
    }
   ],
   "source": [
    "#Hierarchical minmaxscaler\n",
    "hierarchical = AgglomerativeClustering(n_clusters = df['label'].nunique())\n",
    "hierarchical.fit(feature_minmax)\n",
    "\n",
    "y_pre2 = hierarchical.labels_\n",
    "table2 = pd.DataFrame({'actual': label, 'predict': y_pre2})\n",
    "table2['Result'] = np.where(table2['actual']==table2['predict'], True, False) \n",
    "\n",
    "matrix_predict2 = pd.crosstab(label, y_pre2)\n",
    "print(matrix_predict2)\n",
    "\n",
    "print(100*np.trace(matrix_predict2)/df.shape[0])\n",
    "\n",
    "convert_ = col_row(matrix_predict2)\n",
    "print(convert_)\n",
    "\n",
    "table2['predict'] = table2['predict'].replace(convert_)\n",
    "table2['Result'] = np.where(table2['actual']==table2['predict'], True, False) \n",
    "\n",
    "matrix_convert2 = pd.crosstab(label, table2['predict'])\n",
    "print(matrix_convert2)\n",
    "\n",
    "sns.heatmap(matrix_convert2, annot=True)\n",
    "print(100*np.trace(matrix_convert2)/df.shape[0])"
   ]
  },
  {
   "cell_type": "markdown",
   "metadata": {},
   "source": [
    "Hierarchical minmaxscaler have ratio 100%"
   ]
  },
  {
   "cell_type": "code",
   "execution_count": 30,
   "metadata": {
    "scrolled": false
   },
   "outputs": [
    {
     "name": "stdout",
     "output_type": "stream",
     "text": [
      "Decomposition: 1 \n",
      "\n",
      "feature_pca: (85, 1)\n",
      "col_0   0   1   2  3\n",
      "label               \n",
      "0       1  16  17  0\n",
      "1      17   0   3  0\n",
      "2      14   0   0  0\n",
      "3       1   2  10  4\n",
      "5.882352941176471\n",
      "{1: 0, 0: 1, 3: 2, 2: 3}\n",
      "predict   0   1  2   3\n",
      "label                 \n",
      "0        16   1  0  17\n",
      "1         0  17  0   3\n",
      "2         0  14  0   0\n",
      "3         2   1  4  10\n"
     ]
    },
    {
     "data": {
      "image/png": "[encoded data removed]",
      "text/plain": [
       "<Figure size 432x288 with 2 Axes>"
      ]
     },
     "metadata": {},
     "output_type": "display_data"
    },
    {
     "name": "stdout",
     "output_type": "stream",
     "text": [
      "50.588235294117645\n",
      "--------------------------------------------------\n",
      "Decomposition: 2 \n",
      "\n",
      "feature_pca: (85, 2)\n",
      "col_0   0   1   2  3\n",
      "label               \n",
      "0       1  16  17  0\n",
      "1      17   0   3  0\n",
      "2      14   0   0  0\n",
      "3       1   2  10  4\n",
      "5.882352941176471\n",
      "{1: 0, 0: 1, 3: 2, 2: 3}\n",
      "predict   0   1  2   3\n",
      "label                 \n",
      "0        16   1  0  17\n",
      "1         0  17  0   3\n",
      "2         0  14  0   0\n",
      "3         2   1  4  10\n"
     ]
    },
    {
     "data": {
      "image/png": "[encoded data removed]",
      "text/plain": [
       "<Figure size 432x288 with 2 Axes>"
      ]
     },
     "metadata": {},
     "output_type": "display_data"
    },
    {
     "name": "stdout",
     "output_type": "stream",
     "text": [
      "50.588235294117645\n",
      "--------------------------------------------------\n",
      "Decomposition: 3 \n",
      "\n",
      "feature_pca: (85, 3)\n",
      "col_0   0   1   2  3\n",
      "label               \n",
      "0      17  16   1  0\n",
      "1       3   0  17  0\n",
      "2       0   0  14  0\n",
      "3      10   2   1  4\n",
      "41.1764705882353\n",
      "{1: 0, 2: 1, 3: 2, 0: 3}\n",
      "predict   0   1  2   3\n",
      "label                 \n",
      "0        16   1  0  17\n",
      "1         0  17  0   3\n",
      "2         0  14  0   0\n",
      "3         2   1  4  10\n"
     ]
    },
    {
     "data": {
      "image/png": "[encoded data removed]",
      "text/plain": [
       "<Figure size 432x288 with 2 Axes>"
      ]
     },
     "metadata": {},
     "output_type": "display_data"
    },
    {
     "name": "stdout",
     "output_type": "stream",
     "text": [
      "50.588235294117645\n",
      "--------------------------------------------------\n",
      "Decomposition: 4 \n",
      "\n",
      "feature_pca: (85, 4)\n",
      "col_0   0   1   2  3\n",
      "label               \n",
      "0      17  16   1  0\n",
      "1       3   0  17  0\n",
      "2       0   0  14  0\n",
      "3      10   2   1  4\n",
      "41.1764705882353\n",
      "{1: 0, 2: 1, 3: 2, 0: 3}\n",
      "predict   0   1  2   3\n",
      "label                 \n",
      "0        16   1  0  17\n",
      "1         0  17  0   3\n",
      "2         0  14  0   0\n",
      "3         2   1  4  10\n"
     ]
    },
    {
     "data": {
      "image/png": "[encoded data removed]",
      "text/plain": [
       "<Figure size 432x288 with 2 Axes>"
      ]
     },
     "metadata": {},
     "output_type": "display_data"
    },
    {
     "name": "stdout",
     "output_type": "stream",
     "text": [
      "50.588235294117645\n",
      "--------------------------------------------------\n",
      "Decomposition: 5 \n",
      "\n",
      "feature_pca: (85, 5)\n",
      "col_0   0   1   2  3\n",
      "label               \n",
      "0      17  16   1  0\n",
      "1       3   0  17  0\n",
      "2       0   0  14  0\n",
      "3      10   2   1  4\n",
      "41.1764705882353\n",
      "{1: 0, 2: 1, 3: 2, 0: 3}\n",
      "predict   0   1  2   3\n",
      "label                 \n",
      "0        16   1  0  17\n",
      "1         0  17  0   3\n",
      "2         0  14  0   0\n",
      "3         2   1  4  10\n"
     ]
    },
    {
     "data": {
      "image/png": "[encoded data removed]",
      "text/plain": [
       "<Figure size 432x288 with 2 Axes>"
      ]
     },
     "metadata": {},
     "output_type": "display_data"
    },
    {
     "name": "stdout",
     "output_type": "stream",
     "text": [
      "50.588235294117645\n",
      "--------------------------------------------------\n"
     ]
    }
   ],
   "source": [
    "#pca\n",
    "Decomposition = []\n",
    "accuracy = []\n",
    "for decomposition in range(1, feature.shape[1]):\n",
    "    Decomposition.append(decomposition)\n",
    "    pca = PCA(n_components=decomposition)\n",
    "    feature_pca = pca.fit_transform(feature)\n",
    "    print('Decomposition:', decomposition, '\\n')\n",
    "    print('feature_pca:', feature_pca.shape)\n",
    "    \n",
    "    kmean = KMeans(n_clusters = df['label'].nunique(), random_state=17)\n",
    "    kmean.fit(feature_pca)\n",
    "\n",
    "    y_pre1 = kmean.labels_\n",
    "    table1 = pd.DataFrame({'actual': label, 'predict': y_pre1})\n",
    "    table1['Result'] = np.where(table1['actual']==table1['predict'], True, False) \n",
    "\n",
    "    matrix_predict1 = pd.crosstab(label, y_pre1)\n",
    "    print(matrix_predict1)\n",
    "\n",
    "    print(100*np.trace(matrix_predict1)/df.shape[0])\n",
    "\n",
    "    convert_ = col_row(matrix_predict1)\n",
    "    print(convert_)\n",
    "\n",
    "    table1['predict'] = table1['predict'].replace(convert_)\n",
    "    table1['Result'] = np.where(table1['actual']==table1['predict'], True, False) \n",
    "\n",
    "    matrix_convert1 = pd.crosstab(label, table1['predict'])\n",
    "    print(matrix_convert1)\n",
    "\n",
    "    sns.heatmap(matrix_convert1, annot=True)\n",
    "    plt.show()\n",
    "    acc = 100*np.trace(matrix_convert1)/df.shape[0]\n",
    "    print(acc)\n",
    "    print('-'*50)\n",
    "    \n",
    "    accuracy.append(acc)"
   ]
  },
  {
   "cell_type": "markdown",
   "metadata": {},
   "source": [
    "PCA in not scaler is estimating 50%"
   ]
  },
  {
   "cell_type": "code",
   "execution_count": 31,
   "metadata": {},
   "outputs": [
    {
     "name": "stdout",
     "output_type": "stream",
     "text": [
      "[1, 2, 3, 4, 5]\n",
      "[50.588235294117645, 50.588235294117645, 50.588235294117645, 50.588235294117645, 50.588235294117645]\n"
     ]
    },
    {
     "data": {
      "image/png": "[encoded data removed]",
      "text/plain": [
       "<Figure size 432x288 with 1 Axes>"
      ]
     },
     "metadata": {},
     "output_type": "display_data"
    }
   ],
   "source": [
    "plt.plot(Decomposition, accuracy)\n",
    "print(Decomposition)\n",
    "print(accuracy)"
   ]
  },
  {
   "cell_type": "markdown",
   "metadata": {},
   "source": [
    "PCA not affect to accuracy"
   ]
  },
  {
   "cell_type": "code",
   "execution_count": 32,
   "metadata": {
    "scrolled": false
   },
   "outputs": [
    {
     "name": "stdout",
     "output_type": "stream",
     "text": [
      "Decomposition: 1 \n",
      "\n",
      "feature_pca: (85, 5)\n",
      "col_0   0   1   2  3\n",
      "label               \n",
      "0      17  16   1  0\n",
      "1       3   0  17  0\n",
      "2       0   0  14  0\n",
      "3      10   2   1  4\n",
      "41.1764705882353\n",
      "{1: 0, 2: 1, 3: 2, 0: 3}\n",
      "predict   0   1  2   3\n",
      "label                 \n",
      "0        16   1  0  17\n",
      "1         0  17  0   3\n",
      "2         0  14  0   0\n",
      "3         2   1  4  10\n"
     ]
    },
    {
     "data": {
      "image/png": "[encoded data removed]",
      "text/plain": [
       "<Figure size 432x288 with 2 Axes>"
      ]
     },
     "metadata": {},
     "output_type": "display_data"
    },
    {
     "name": "stdout",
     "output_type": "stream",
     "text": [
      "50.588235294117645\n",
      "--------------------------------------------------\n",
      "Decomposition: 2 \n",
      "\n",
      "feature_pca: (85, 5)\n",
      "col_0   0   1   2  3\n",
      "label               \n",
      "0      17  16   1  0\n",
      "1       3   0  17  0\n",
      "2       0   0  14  0\n",
      "3      10   2   1  4\n",
      "41.1764705882353\n",
      "{1: 0, 2: 1, 3: 2, 0: 3}\n",
      "predict   0   1  2   3\n",
      "label                 \n",
      "0        16   1  0  17\n",
      "1         0  17  0   3\n",
      "2         0  14  0   0\n",
      "3         2   1  4  10\n"
     ]
    },
    {
     "data": {
      "image/png": "[encoded data removed]",
      "text/plain": [
       "<Figure size 432x288 with 2 Axes>"
      ]
     },
     "metadata": {},
     "output_type": "display_data"
    },
    {
     "name": "stdout",
     "output_type": "stream",
     "text": [
      "50.588235294117645\n",
      "--------------------------------------------------\n",
      "Decomposition: 3 \n",
      "\n",
      "feature_pca: (85, 5)\n",
      "col_0   0   1   2  3\n",
      "label               \n",
      "0      17  16   1  0\n",
      "1       3   0  17  0\n",
      "2       0   0  14  0\n",
      "3      10   2   1  4\n",
      "41.1764705882353\n",
      "{1: 0, 2: 1, 3: 2, 0: 3}\n",
      "predict   0   1  2   3\n",
      "label                 \n",
      "0        16   1  0  17\n",
      "1         0  17  0   3\n",
      "2         0  14  0   0\n",
      "3         2   1  4  10\n"
     ]
    },
    {
     "data": {
      "image/png": "[encoded data removed]",
      "text/plain": [
       "<Figure size 432x288 with 2 Axes>"
      ]
     },
     "metadata": {},
     "output_type": "display_data"
    },
    {
     "name": "stdout",
     "output_type": "stream",
     "text": [
      "50.588235294117645\n",
      "--------------------------------------------------\n",
      "Decomposition: 4 \n",
      "\n",
      "feature_pca: (85, 5)\n",
      "col_0   0   1   2  3\n",
      "label               \n",
      "0      17  16   1  0\n",
      "1       3   0  17  0\n",
      "2       0   0  14  0\n",
      "3      10   2   1  4\n",
      "41.1764705882353\n",
      "{1: 0, 2: 1, 3: 2, 0: 3}\n",
      "predict   0   1  2   3\n",
      "label                 \n",
      "0        16   1  0  17\n",
      "1         0  17  0   3\n",
      "2         0  14  0   0\n",
      "3         2   1  4  10\n"
     ]
    },
    {
     "data": {
      "image/png": "[encoded data removed]",
      "text/plain": [
       "<Figure size 432x288 with 2 Axes>"
      ]
     },
     "metadata": {},
     "output_type": "display_data"
    },
    {
     "name": "stdout",
     "output_type": "stream",
     "text": [
      "50.588235294117645\n",
      "--------------------------------------------------\n",
      "Decomposition: 5 \n",
      "\n",
      "feature_pca: (85, 5)\n",
      "col_0   0   1   2  3\n",
      "label               \n",
      "0      17  16   1  0\n",
      "1       3   0  17  0\n",
      "2       0   0  14  0\n",
      "3      10   2   1  4\n",
      "41.1764705882353\n",
      "{1: 0, 2: 1, 3: 2, 0: 3}\n",
      "predict   0   1  2   3\n",
      "label                 \n",
      "0        16   1  0  17\n",
      "1         0  17  0   3\n",
      "2         0  14  0   0\n",
      "3         2   1  4  10\n"
     ]
    },
    {
     "data": {
      "image/png": "[encoded data removed]",
      "text/plain": [
       "<Figure size 432x288 with 2 Axes>"
      ]
     },
     "metadata": {},
     "output_type": "display_data"
    },
    {
     "name": "stdout",
     "output_type": "stream",
     "text": [
      "50.588235294117645\n",
      "--------------------------------------------------\n"
     ]
    }
   ],
   "source": [
    "#pca\n",
    "Decomposition = []\n",
    "accuracy = []\n",
    "for decomposition in range(1, feature.shape[1]):\n",
    "    Decomposition.append(decomposition)\n",
    "    pca = PCA(n_components=decomposition)\n",
    "    feature_pca_std = pca.fit_transform(feature_std)\n",
    "    print('Decomposition:', decomposition, '\\n')\n",
    "    print('feature_pca:', feature_pca.shape)\n",
    "    \n",
    "    kmean = KMeans(n_clusters = df['label'].nunique(), random_state=17)\n",
    "    kmean.fit(feature_pca)\n",
    "\n",
    "    y_pre1 = kmean.labels_\n",
    "    table1 = pd.DataFrame({'actual': label, 'predict': y_pre1})\n",
    "    table1['Result'] = np.where(table1['actual']==table1['predict'], True, False) \n",
    "\n",
    "    matrix_predict1 = pd.crosstab(label, y_pre1)\n",
    "    print(matrix_predict1)\n",
    "\n",
    "    print(100*np.trace(matrix_predict1)/df.shape[0])\n",
    "\n",
    "    convert_ = col_row(matrix_predict1)\n",
    "    print(convert_)\n",
    "\n",
    "    table1['predict'] = table1['predict'].replace(convert_)\n",
    "    table1['Result'] = np.where(table1['actual']==table1['predict'], True, False) \n",
    "\n",
    "    matrix_convert1 = pd.crosstab(label, table1['predict'])\n",
    "    print(matrix_convert1)\n",
    "\n",
    "    sns.heatmap(matrix_convert1, annot=True)\n",
    "    plt.show()\n",
    "    acc = 100*np.trace(matrix_convert1)/df.shape[0]\n",
    "    print(acc)\n",
    "    print('-'*50)\n",
    "    \n",
    "    accuracy.append(acc)"
   ]
  },
  {
   "cell_type": "code",
   "execution_count": 33,
   "metadata": {},
   "outputs": [
    {
     "name": "stdout",
     "output_type": "stream",
     "text": [
      "[1, 2, 3, 4, 5]\n",
      "[50.588235294117645, 50.588235294117645, 50.588235294117645, 50.588235294117645, 50.588235294117645]\n"
     ]
    },
    {
     "data": {
      "image/png": "[encoded data removed]",
      "text/plain": [
       "<Figure size 432x288 with 1 Axes>"
      ]
     },
     "metadata": {},
     "output_type": "display_data"
    }
   ],
   "source": [
    "plt.plot(Decomposition, accuracy)\n",
    "print(Decomposition)\n",
    "print(accuracy)"
   ]
  },
  {
   "cell_type": "code",
   "execution_count": 34,
   "metadata": {},
   "outputs": [
    {
     "ename": "TypeError",
     "evalue": "pairplot() missing 1 required positional argument: 'data'",
     "output_type": "error",
     "traceback": [
      "\u001b[1;31m---------------------------------------------------------------------------\u001b[0m",
      "\u001b[1;31mTypeError\u001b[0m                                 Traceback (most recent call last)",
      "\u001b[1;32m<ipython-input-34-4b9ab8d39ae3>\u001b[0m in \u001b[0;36m<module>\u001b[1;34m()\u001b[0m\n\u001b[1;32m----> 1\u001b[1;33m \u001b[0msns\u001b[0m\u001b[1;33m.\u001b[0m\u001b[0mpairplot\u001b[0m\u001b[1;33m(\u001b[0m\u001b[1;33m)\u001b[0m\u001b[1;33m\u001b[0m\u001b[0m\n\u001b[0m",
      "\u001b[1;31mTypeError\u001b[0m: pairplot() missing 1 required positional argument: 'data'"
     ]
    }
   ],
   "source": [
    "sns.pairplot()"
   ]
  }
 ],
 "metadata": {
  "kernelspec": {
   "display_name": "Python 3",
   "language": "python",
   "name": "python3"
  },
  "language_info": {
   "codemirror_mode": {
    "name": "ipython",
    "version": 3
   },
   "file_extension": ".py",
   "mimetype": "text/x-python",
   "name": "python",
   "nbconvert_exporter": "python",
   "pygments_lexer": "ipython3",
   "version": "3.6.5"
  }
 },
 "nbformat": 4,
 "nbformat_minor": 2
}
